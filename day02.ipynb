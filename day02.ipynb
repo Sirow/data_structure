{
 "cells": [
  {
   "cell_type": "markdown",
   "metadata": {},
   "source": [
    "Task02：顺序表和链表（2天）  \n",
    "理论部分  \n",
    "\n",
    "理解线性表的定义与操作。  \n",
    "实现顺序表。  \n",
    "实现单链表，循环链表，双向链表。  "
   ]
  },
  {
   "cell_type": "markdown",
   "metadata": {},
   "source": [
    "#### 理论部分先学习下"
   ]
  },
  {
   "cell_type": "markdown",
   "metadata": {},
   "source": [
    "- 线性表是具有相同数据类型的n个数据元素的有限序列"
   ]
  },
  {
   "cell_type": "markdown",
   "metadata": {},
   "source": [
    "- 顺序表即线性表的顺序存储结构。它是通过一组地址连续的存储单元对线性表中的数据进行存储的，相邻的两个元素在物理位置上也是相邻的。比如，第1个元素是存储在线性表的起始位置LOC(1)，那么第i个元素即是存储在LOC(1)+(i-1)*sizeof(ElemType)位置上，其中sizeof(ElemType)表示每一个元素所占的空间。\n"
   ]
  },
  {
   "cell_type": "markdown",
   "metadata": {},
   "source": [
    "1.Python实现 顺序表"
   ]
  },
  {
   "cell_type": "markdown",
   "metadata": {},
   "source": [
    "https://www.cnblogs.com/ceshixuexi/p/9329530.html"
   ]
  },
  {
   "cell_type": "code",
   "execution_count": 89,
   "metadata": {},
   "outputs": [],
   "source": [
    "class SeqList(object):\n",
    "    def __init__(self,max = 10):\n",
    "        self.max = max #默认顺序表最多容纳10个元素\n",
    "        #初始化顺序表数组\n",
    "        self.num = 0\n",
    "        self.data = [None] * self.max #占位了10个\n",
    "    \n",
    "    def is_empty(self): #判断线性表是否为空\n",
    "        return self.num is 0\n",
    "    \n",
    "    def is_full(self): #判断线性表是否全满\n",
    "        return self.num is self.max\n",
    "    \n",
    "    def __getitem__(self,index):#获取线性表中某一位置的值\n",
    "        if not isinstance(index,int):\n",
    "            raise TypeError\n",
    "        if 0 <= index <self.max:\n",
    "            return self.data[index]\n",
    "        else:\n",
    "            raise IndexError\n",
    "    def __setitem__(self,index,value): # 修改线性表中的某一位置的值\n",
    "        if not isinstance(index,int):\n",
    "            raise TypeError\n",
    "        if 0<=index<self.max:\n",
    "            self.data[index] = value\n",
    "        else:\n",
    "            raise IndexError\n",
    "    \n",
    "    def locate_item(self,value): #按值查找第一个等于该值得索引\n",
    "        for i in range(self.num):\n",
    "            if self.data[i] == value:\n",
    "                return i\n",
    "        return -1\n",
    "    \n",
    "    def count(self): # 返回线性表中元素的个数\n",
    "        return self.num\n",
    "    \n",
    "    def append_last(self,value): #在表尾部插入一个元素\n",
    "        if self.num > self.max:\n",
    "            print(\"list is full\")\n",
    "        else:\n",
    "            self.data[self.num] = value\n",
    "            self.num += 1\n",
    "            \n",
    "    def insert(self,index,value):  # 在表中任意位置插入一个元素\n",
    "        if self.num>=self.max:\n",
    "            print(\"list is full\")\n",
    "        if not isinstance(index,int):\n",
    "            raise TypeError\n",
    "        if index<0 or index>self.num:\n",
    "            raise IndexError\n",
    "        print('num :',self.num)\n",
    "        for i in range(self.num,index,-1):\n",
    "            self.data[i]=self.data[i-1]\n",
    "        self.data[index]=value\n",
    "        self.num += 1\n",
    "    \n",
    "    def remove(self,index): #删除表中某一位置的值\n",
    "        if not isinstance(index,int):\n",
    "            raise TypeError\n",
    "        if index < 0 or index >= self.num:\n",
    "            raise IndexError\n",
    "        for i in range(index,self.num):\n",
    "            self.data[i] = self.data[i+1]\n",
    "        self.num -= 1\n",
    "    \n",
    "    \n",
    "    def print_list(self): #输出操作\n",
    "        for i in range(0,self.num):\n",
    "            print(self.data[i])\n",
    "    \n",
    "    def destroy(self):\n",
    "        self.__init__() "
   ]
  },
  {
   "cell_type": "code",
   "execution_count": 90,
   "metadata": {},
   "outputs": [
    {
     "name": "stdout",
     "output_type": "stream",
     "text": [
      "True\n",
      "None\n",
      "5\n",
      "num : 4\n",
      "*******\n",
      "7\n",
      "4\n",
      "6\n",
      "11\n",
      "3\n",
      "*******\n",
      "7\n",
      "4\n",
      "6\n",
      "11\n",
      "3\n",
      "None\n",
      "None\n",
      "None\n",
      "None\n",
      "None\n",
      "*******\n"
     ]
    }
   ],
   "source": [
    "if __name__ == '__main__':\n",
    "    seqlist=SeqList()\n",
    "    print(seqlist.is_empty())\n",
    "    print(seqlist[3])\n",
    "    seqlist[2] = 5\n",
    "    print(seqlist[2])\n",
    "    seqlist.append_last(7)\n",
    "    seqlist.append_last(4)\n",
    "    seqlist.append_last(6)\n",
    "    seqlist.append_last(3)\n",
    "    seqlist.insert(3,11)\n",
    "#     seqlist.remove(3)\n",
    "  \n",
    "    print(\"*******\")\n",
    "    seqlist.print_list()\n",
    "    print(\"*******\")\n",
    "    for x in seqlist:\n",
    "        print(x)\n",
    "    print(\"*******\")\n",
    "    seqlist.destroy()\n",
    "#     for x in seqlist:\n",
    "#         print(x)\n",
    "    seqlist.print_list()"
   ]
  },
  {
   "cell_type": "markdown",
   "metadata": {},
   "source": [
    "2.实现单链表"
   ]
  },
  {
   "cell_type": "code",
   "execution_count": 93,
   "metadata": {},
   "outputs": [],
   "source": [
    "#节点类"
   ]
  },
  {
   "cell_type": "code",
   "execution_count": 94,
   "metadata": {},
   "outputs": [],
   "source": [
    "class Node(object):\n",
    "    \"\"\"节点\"\"\"\n",
    "    def __init__(self,elem):\n",
    "        self.elem = elem\n",
    "        self.next = None"
   ]
  },
  {
   "cell_type": "code",
   "execution_count": 95,
   "metadata": {},
   "outputs": [],
   "source": [
    "# node = Node(100)"
   ]
  },
  {
   "cell_type": "code",
   "execution_count": null,
   "metadata": {},
   "outputs": [],
   "source": [
    "class SingleLinkList(object):\n",
    "    \"\"\"单链表\"\"\"\n",
    "    def __init__(self, node = None):\n",
    "        self._head = node\n",
    "    \n",
    "    def is_empty(self): #链表的头指向为空就行\n",
    "        \"\"\"链表是否为空\"\"\"\n",
    "        return self._head == None\n",
    "    \n",
    "    def length(self):\n",
    "        \"\"\"链表长度\"\"\"\n",
    "        \n",
    "    \n",
    "    def travel(self):\n",
    "        \"\"\"遍历整个链表\"\"\"\n",
    "        pass\n",
    "    \n",
    "    def add(self,item):\n",
    "        \"\"\"链表头部添加元素\"\"\"\n",
    "        pass\n",
    "    \n",
    "    def append(self,item):\n",
    "        \"\"\"链表尾部添加元素\"\"\"\n",
    "        pass\n",
    "    \n",
    "    def insert(self,pos,item):\n",
    "        \"\"\"指定位置添加元素\"\"\"\n",
    "        pass\n",
    "    \n",
    "    def remove(self, item):\n",
    "        \"\"\"删除节点\"\"\"\n",
    "        pass\n",
    "    "
   ]
  },
  {
   "cell_type": "markdown",
   "metadata": {},
   "source": [
    "### 练习部分：\n",
    "\n",
    "1. 合并两个有序链表"
   ]
  },
  {
   "cell_type": "code",
   "execution_count": 101,
   "metadata": {},
   "outputs": [],
   "source": [
    "class ListNode:\n",
    "    def __init__(self, x):\n",
    "        self.val = x\n",
    "        self.next = None"
   ]
  },
  {
   "cell_type": "code",
   "execution_count": 102,
   "metadata": {},
   "outputs": [],
   "source": [
    "class Solution:\n",
    "    def mergeTwoLists(self, l1: ListNode, l2: ListNode) -> ListNode:\n",
    "        #先判断出输入的两个链表是否为空\n",
    "        if l1==None:\n",
    "            return l2\n",
    "        if l2==None:\n",
    "            return l1\n",
    "        #将输入的两个链表分别写入两个列表中\n",
    "        value1=l1.val\n",
    "        value_list1=[]\n",
    "        while 1:\n",
    "            value_list1.append(value1)            \n",
    "            if l1.next==None:\n",
    "                break\n",
    "            l1=l1.next\n",
    "            value1=l1.val\n",
    " \n",
    "        value2=l2.val\n",
    "        value_list2=[]\n",
    "        while 1:\n",
    "            value_list2.append(value2)            \n",
    "            if l2.next==None:\n",
    "                break\n",
    "            l2=l2.next\n",
    "            value2=l2.val    \n",
    "        #合并两个列表中的元素，并对列表中的元素进行从小到大的排序\n",
    "        all_value_list=value_list1+value_list2\n",
    "        all_value_list.sort()\n",
    "        #将经过排序的列表元素再次写入链表中\n",
    "        l3=ListNode(all_value_list[0])\n",
    "        p1=l3\n",
    "        for i in range(1,len(all_value_list)):\n",
    "            p1.next=ListNode(all_value_list[i])\n",
    "            p1=p1.next\n",
    "        return l3"
   ]
  },
  {
   "cell_type": "markdown",
   "metadata": {},
   "source": [
    "2. 删除链表的倒数第N个节点\n",
    "\n",
    "给定一个链表，删除链表的倒数第 n 个节点，并且返回链表的头结点。"
   ]
  },
  {
   "cell_type": "code",
   "execution_count": null,
   "metadata": {},
   "outputs": [],
   "source": [
    "class ListNode:\n",
    "    def __init__(self, x):\n",
    "        self.val = x\n",
    "        self.next = None\n",
    "\n",
    "class Solution:\n",
    "    def removeNthFromEnd(self, head, n):\n",
    "        \"\"\"\n",
    "        :type head: ListNode\n",
    "        :type n: int\n",
    "        :rtype: ListNode\n",
    "        \"\"\"\n",
    "        head0 = ListNode(0)\n",
    "        head0.next = head\n",
    "\n",
    "        runner = head0\n",
    "        walker = head0\n",
    "\n",
    "        for i in range(n):\n",
    "            runner = runner.next\n",
    "\n",
    "        while runner.next:\n",
    "            walker = walker.next\n",
    "            runner = runner.next\n",
    "\n",
    "        node = walker.next\n",
    "        walker.next = node.next\n",
    "        node.next = None\n",
    "        return head0.next"
   ]
  },
  {
   "cell_type": "markdown",
   "metadata": {},
   "source": [
    "3. 旋转链表\n",
    "\n",
    "给定一个链表，旋转链表，将链表每个节点向右移动k个位置，其中k是非负数。"
   ]
  },
  {
   "cell_type": "markdown",
   "metadata": {},
   "source": [
    "参考：https://www.jb51.net/article/106704.htm "
   ]
  },
  {
   "cell_type": "code",
   "execution_count": 103,
   "metadata": {},
   "outputs": [],
   "source": [
    "class ListNode: \n",
    "  def __init__(self, x): \n",
    "    self.val = x \n",
    "    self.next = None \n",
    "  \n",
    "class Solution: \n",
    "  # @param head: the list \n",
    "  # @param k: rotate to the right k places \n",
    "  # @return: the list after rotation \n",
    "  def rotateRight(self, head, k): \n",
    "    if head is None: \n",
    "      return head \n",
    "    cur = head \n",
    "    count = 1\n",
    "    # 计算链表长度 \n",
    "    while cur.next: \n",
    "      cur = cur.next\n",
    "      count += 1\n",
    "    # 为节省代码量，这里是一个很有技巧的处理：用尾节点链接头结点 \n",
    "    cur.next = head \n",
    "    # 此处，k为cur从尾节点到要断开部分的前驱需走的步数 \n",
    "    k = count - k % count \n",
    "    # 找到前驱 \n",
    "    while k != 0: \n",
    "      cur = cur.next\n",
    "      k -= 1\n",
    "    # 断开 \n",
    "    head = cur.next\n",
    "    cur.next = None\n",
    "    # 因为首尾已经相连，所以直接返回前驱后面的那个节点即可，此处引用为head \n",
    "    return head "
   ]
  },
  {
   "cell_type": "code",
   "execution_count": null,
   "metadata": {},
   "outputs": [],
   "source": []
  },
  {
   "cell_type": "code",
   "execution_count": null,
   "metadata": {},
   "outputs": [],
   "source": []
  },
  {
   "cell_type": "code",
   "execution_count": null,
   "metadata": {},
   "outputs": [],
   "source": []
  }
 ],
 "metadata": {
  "kernelspec": {
   "display_name": "Python 3",
   "language": "python",
   "name": "python3"
  },
  "language_info": {
   "codemirror_mode": {
    "name": "ipython",
    "version": 3
   },
   "file_extension": ".py",
   "mimetype": "text/x-python",
   "name": "python",
   "nbconvert_exporter": "python",
   "pygments_lexer": "ipython3",
   "version": "3.6.5"
  }
 },
 "nbformat": 4,
 "nbformat_minor": 2
}
