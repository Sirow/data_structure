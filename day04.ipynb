{
 "cells": [
  {
   "cell_type": "markdown",
   "metadata": {},
   "source": [
    "### 队列"
   ]
  },
  {
   "cell_type": "markdown",
   "metadata": {},
   "source": [
    "用的顺序表完成队列(list本身就是顺序表)   \n",
    "注意：1.在顺序表中，无论你怎么添加或者弹出，总有一个        \n",
    "是o(1),另一个是o(n).   \n",
    "2.最终，你选择头部添加还是尾部添加，要看你经常操作的是'出队'还是'入队'  "
   ]
  },
  {
   "cell_type": "code",
   "execution_count": 20,
   "metadata": {},
   "outputs": [],
   "source": [
    "class Queue(object):\n",
    "    \"\"\"队列\"\"\"\n",
    "    def __init__(self):\n",
    "        self.__list = []\n",
    "    \n",
    "    def enqueue(self,item):\n",
    "        \"\"\"往队列中添加一个item元素\"\"\"\n",
    "        self.__list.apend(item)    #在尾部添加\n",
    "#         self.__list.insert(0,item) #在头部添加\n",
    "        \n",
    "    def dequeue(self):\n",
    "        \"\"\"从队列头部删除一个元素\"\"\"\n",
    "        return self.__list.pop(0)  #在尾部添加就应该从头部弹\n",
    "#         return self.__list.pop()  #在头部添加就应该在尾部去弹\n",
    "    \n",
    "    def is_empty(self):\n",
    "        \"\"\"判断一个队列是否为空\"\"\"\n",
    "        pass\n",
    "    \n",
    "    def size(self):\n",
    "        \"\"\"返回队列的大小\"\"\"\n",
    "        pass"
   ]
  },
  {
   "cell_type": "code",
   "execution_count": 29,
   "metadata": {},
   "outputs": [
    {
     "name": "stdout",
     "output_type": "stream",
     "text": [
      "\\ \\\n"
     ]
    }
   ],
   "source": []
  },
  {
   "cell_type": "code",
   "execution_count": null,
   "metadata": {},
   "outputs": [],
   "source": []
  },
  {
   "cell_type": "code",
   "execution_count": null,
   "metadata": {},
   "outputs": [],
   "source": []
  },
  {
   "cell_type": "code",
   "execution_count": null,
   "metadata": {},
   "outputs": [],
   "source": []
  }
 ],
 "metadata": {
  "kernelspec": {
   "display_name": "Python 3",
   "language": "python",
   "name": "python3"
  },
  "language_info": {
   "codemirror_mode": {
    "name": "ipython",
    "version": 3
   },
   "file_extension": ".py",
   "mimetype": "text/x-python",
   "name": "python",
   "nbconvert_exporter": "python",
   "pygments_lexer": "ipython3",
   "version": "3.6.5"
  }
 },
 "nbformat": 4,
 "nbformat_minor": 2
}
