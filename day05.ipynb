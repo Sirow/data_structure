{
 "cells": [
  {
   "cell_type": "markdown",
   "metadata": {},
   "source": [
    "### day05 字符串的学习"
   ]
  },
  {
   "cell_type": "markdown",
   "metadata": {},
   "source": [
    "1.无重复字符的最长子串"
   ]
  },
  {
   "cell_type": "code",
   "execution_count": 1,
   "metadata": {},
   "outputs": [],
   "source": [
    "def MaxSubStringLength(self,string):\n",
    "    start = 0\n",
    "    maxlen  = 0\n",
    "    maxsubstring = {}\n",
    "    for i in range(len(string)):\n",
    "        cur = string[i]\n",
    "        if cur in maxsubstring.keys():\n",
    "            pre = maxsubstring[cur]\n",
    "            if pre + 1 > start:\n",
    "                start = pre + 1\n",
    "            maxsubstring[cur] = i\n",
    "        else:\n",
    "            maxsubstring[cur] = i\n",
    "        if i - start + 1 >maxlen:\n",
    "            maxlen = i - start + 1\n",
    "    return maxlen"
   ]
  },
  {
   "cell_type": "markdown",
   "metadata": {},
   "source": [
    "2.串联所有单词的子串"
   ]
  },
  {
   "cell_type": "code",
   "execution_count": 5,
   "metadata": {},
   "outputs": [],
   "source": [
    "class Soultion(object):\n",
    "    def findSubString(self,s,words):\n",
    "        if not s or words == []:\n",
    "            return []\n",
    "\n",
    "        lenstr = len(s)\n",
    "        lenword = len(words[0])\n",
    "        lensubstr = len(words)*lenword\n",
    "        times = {}\n",
    "        #统计words中各词出现的频率\n",
    "        for word in words:\n",
    "            if word in times:\n",
    "                times[word] += 1\n",
    "            else:\n",
    "                times[word] = 1\n",
    "\n",
    "        #存储结果\n",
    "        ans = []\n",
    "        for i in range(min(lenword,lenstr - lensubstr+1)):\n",
    "            self.findAnswer(i,lenstr,lenword,lensubstr,s,times,ans)\n",
    "        return ans\n",
    "\n",
    "def findAnswer(self,strstart,lenstr,lenword,lensubstr,s,times,ans):\n",
    "    wordstart = strstart\n",
    "    curr = {}\n",
    "    while strstart +lensubstr <= lenstr:\n",
    "        word = s[wordstart:wordstart+lenword]\n",
    "        wordstart += lenword\n",
    "        if word not in times:\n",
    "            strstart = wordstart\n",
    "            curr.clear()\n",
    "        else:\n",
    "            if word in curr:\n",
    "                curr[word] += 1\n",
    "            else:\n",
    "                curr[word] = 1\n",
    "            while curr[word] > times[word]:\n",
    "                curr[s[strstart:strstart+lenword]] -= 1\n",
    "                strstart += lenword\n",
    "            if wordstart - strstart == lensubstr:\n",
    "                ans.append(strstart)\n",
    "    return ans"
   ]
  },
  {
   "cell_type": "markdown",
   "metadata": {},
   "source": [
    "3.替换字串得到平衡字串"
   ]
  },
  {
   "cell_type": "code",
   "execution_count": 6,
   "metadata": {},
   "outputs": [],
   "source": [
    "def balanceString(s):\n",
    "    strlen = len(s)\n",
    "    cnt ,avg = [None] * (n+1),n//4\n",
    "    count[0] = {'Q':0,'W':0,'E':0,'R':0}\n",
    "    for i,v in enumerate(s):\n",
    "        cnt[i+1] = {k:v for k,v in cnt[i].items()}\n",
    "        cnt[i+1][v] += 1\n",
    "\n",
    "    def check(x):\n",
    "        for st in range(n-x+1):\n",
    "            t = {k:cnt[n][k] -cnt[st+x][k] + cnt[st][k] for k in cnt[0].keys()}\n",
    "            if all(avg >= t[x] for x in 'QWER'):\n",
    "                return True\n",
    "        return False\n",
    "\n",
    "    left,right = 0, n\n",
    "    while left < right:\n",
    "        mid = left+right >>1\n",
    "        if check(mid):\n",
    "            right = mid\n",
    "        else:\n",
    "            left = mid + 1\n",
    "    return left\n"
   ]
  },
  {
   "cell_type": "code",
   "execution_count": null,
   "metadata": {},
   "outputs": [],
   "source": []
  }
 ],
 "metadata": {
  "kernelspec": {
   "display_name": "Python 3",
   "language": "python",
   "name": "python3"
  },
  "language_info": {
   "codemirror_mode": {
    "name": "ipython",
    "version": 3
   },
   "file_extension": ".py",
   "mimetype": "text/x-python",
   "name": "python",
   "nbconvert_exporter": "python",
   "pygments_lexer": "ipython3",
   "version": "3.6.5"
  }
 },
 "nbformat": 4,
 "nbformat_minor": 2
}
